{
 "cells": [
  {
   "cell_type": "markdown",
   "metadata": {},
   "source": [
    "# Python User Define Function Practice Activity - 2 "
   ]
  },
  {
   "cell_type": "raw",
   "metadata": {},
   "source": [
    "Ali Muhammad 19B-099-SE Section A "
   ]
  },
  {
   "cell_type": "markdown",
   "metadata": {},
   "source": [
    "Question 1: Create a function to find the following:\n",
    "If the base of triangle is 3 cm long and its equilateral triangle and the radius of circle is 1.5 cm then find the area of triangle shaded. \n"
   ]
  },
  {
   "cell_type": "markdown",
   "metadata": {},
   "source": [
    "![proj](q1.jpg)"
   ]
  },
  {
   "cell_type": "code",
   "execution_count": 12,
   "metadata": {},
   "outputs": [
    {
     "name": "stdout",
     "output_type": "stream",
     "text": [
      "Area of Shaded Regoin = 16.31cm³\n"
     ]
    }
   ],
   "source": [
    "from math import pi,sqrt\n",
    "def areas():\n",
    "    b_t = 3\n",
    "    r_c = 1.5\n",
    "    h_t = sqrt(3**2 - 1.5**2)\n",
    "    a_t = 6 * (.5 * b_t * h_t)\n",
    "    a_c = pi * r_c**2\n",
    "    Shaded = a_t - a_c\n",
    "    print(\"Area of Shaded Regoin = {0:.{1}f}cm\\u00b3\".format(Shaded,2))\n",
    "    \n",
    "areas()\n",
    "\n",
    "# time 7 min "
   ]
  },
  {
   "cell_type": "markdown",
   "metadata": {},
   "source": [
    "Question 2: Create a function which can read a dictionary of your family members such as 5 members. \n",
    "1 Abbu, 1 Ammi, 2 Brothers 1 Sister. Now feed this data in dictionary in terms of name and relations.\n",
    "The UDF will ask findrelation() in this you will enter Brother it will return the names of two brothers you have inserted. In case if the relation is not found it will return “Sorry the relation doesn’t exist in your family.” \n"
   ]
  },
  {
   "cell_type": "code",
   "execution_count": 14,
   "metadata": {},
   "outputs": [
    {
     "name": "stdout",
     "output_type": "stream",
     "text": [
      "['Salman', 'Sahir']\n"
     ]
    }
   ],
   "source": [
    "#Question 2 time = 8 minutes\n",
    "#name are made up :p\n",
    "def findrelation(Relation):\n",
    "    family = {'mother' : ['Marzana'] , 'father' : ['Ashiq'] ,'brother' : ['Salman','Sahir'] , 'sister' : ['Areeba']  }\n",
    "    if Relation.lower() in family:\n",
    "        print(family.get(Relation.lower()))\n",
    "    else:\n",
    "        print(\"Sorry Relation Does not exist in your family\")\n",
    "findrelation('brother')\n"
   ]
  },
  {
   "cell_type": "markdown",
   "metadata": {},
   "source": [
    "Question 3: Create a function to find the following:\n",
    "If the base of triangle is 5 cm long and its equilateral triangle and the radius of circle is 2.25 cm then find the area of triangle shaded. \n"
   ]
  },
  {
   "cell_type": "markdown",
   "metadata": {},
   "source": [
    "![proj](q3.jpg)"
   ]
  },
  {
   "cell_type": "code",
   "execution_count": 16,
   "metadata": {},
   "outputs": [
    {
     "name": "stdout",
     "output_type": "stream",
     "text": [
      "Area of Shaded Regoin = 15.90cm³\n"
     ]
    }
   ],
   "source": [
    "#time = 5 minute\n",
    "def area_s1():\n",
    "    b_t = 5\n",
    "    r_c = 2.25\n",
    "    h_t = sqrt(3**2 - 1.5**2)\n",
    "    a_t = 6 * (.5 * b_t * h_t)\n",
    "    a_c = pi * r_c**2\n",
    "    \n",
    "    print(\"Area of Triangle Shaded = {0:.{1}f}cm\\u00b3\".format(a_c,2))\n",
    "    \n",
    "area_s1()"
   ]
  },
  {
   "cell_type": "markdown",
   "metadata": {},
   "source": [
    "Question 4:\n",
    "Create a function that takes a list of random numbers from users and add only those which are even. If all the numbers are odd it will return sorry no even number found.\n"
   ]
  },
  {
   "cell_type": "code",
   "execution_count": 18,
   "metadata": {},
   "outputs": [
    {
     "name": "stdout",
     "output_type": "stream",
     "text": [
      "enter a random number : 7\n",
      "enter a random number : 5\n",
      "enter a random number : 7\n",
      "enter a random number : 5\n",
      "enter a random number : 6\n",
      "enter a random number : 8\n",
      "sum of all even number is =  14\n"
     ]
    }
   ],
   "source": [
    "#time = 6 minutes\n",
    "def even():\n",
    "    x = [0,0,0,0,0,0]\n",
    "    sum = 0\n",
    "    for i in range(6):\n",
    "        x[i]=int(input(\"enter a random number : \"))\n",
    "    \n",
    "    for i in x:\n",
    "        if i%2==0:\n",
    "            sum = sum + i\n",
    "    print(\"sum of all even number is = \",sum)\n",
    "even()"
   ]
  },
  {
   "cell_type": "markdown",
   "metadata": {},
   "source": [
    "Question 5:\n",
    "Write a function which can take a list of numbers and it will return sorted list.\n"
   ]
  },
  {
   "cell_type": "code",
   "execution_count": 19,
   "metadata": {},
   "outputs": [
    {
     "name": "stdout",
     "output_type": "stream",
     "text": [
      "Enter the Numbers : 8\n",
      "Enter the Numbers : 9\n",
      "Enter the Numbers : 6\n",
      "Enter the Numbers : 7\n",
      "Enter the Numbers : 5\n",
      "Enter the Numbers : 4\n",
      "[4, 5, 6, 7, 8, 9]\n"
     ]
    }
   ],
   "source": [
    "#5 time = 3 min\n",
    "def sort():\n",
    "    x = [0,0,0,0,0,0]\n",
    "    sum = 0\n",
    "    for i in range(6):\n",
    "        x[i]=int(input(\"Enter the Numbers : \"))\n",
    "    x.sort()\n",
    "    print(x)\n",
    "sort()"
   ]
  },
  {
   "cell_type": "markdown",
   "metadata": {},
   "source": [
    "Question 6:\n",
    "Write a function that will take the radius and return the perimeter and area of circle with 5% increment.\n"
   ]
  },
  {
   "cell_type": "code",
   "execution_count": 20,
   "metadata": {},
   "outputs": [
    {
     "name": "stdout",
     "output_type": "stream",
     "text": [
      "Original Area : 28.27cm² \n",
      "Area with 5% increment : 29.69cm \n",
      "\n",
      "\n",
      "Original Perimeter : 18.85cm² \n",
      "Perimeter with 5% increment : 19.79cm \n"
     ]
    }
   ],
   "source": [
    "#Time = 6 minutes\n",
    "from math import pi\n",
    "def increment(r):\n",
    "    AreaO = pi * r**2\n",
    "    PerimeterO = 2 * pi * r\n",
    "    AreaI= (AreaO/100)*105\n",
    "    PerimeterI = (PerimeterO/100)*105\n",
    "    print(\"Original Area : {0:.{1}f}cm\\u00b2 \".format(AreaO,2))\n",
    "    print(\"Area with 5% increment : {0:.{1}f}cm \".format(AreaI,2))\n",
    "    print(\"\\n\")\n",
    "    print(\"Original Perimeter : {0:.{1}f}cm\\u00b2 \".format(PerimeterO,2))\n",
    "    print(\"Perimeter with 5% increment : {0:.{1}f}cm \".format(PerimeterI,2))\n",
    "increment(3)"
   ]
  },
  {
   "cell_type": "markdown",
   "metadata": {},
   "source": [
    "Question 7:\n",
    "Write a function that will take the strings as argument and return number of vowels and consonants.\n"
   ]
  },
  {
   "cell_type": "code",
   "execution_count": null,
   "metadata": {},
   "outputs": [],
   "source": [
    "#time 3 minute\n",
    "def counting():\n",
    "    total = 0\n",
    "    count = 0\n",
    "    String = input(\"Enter a String : \")\n",
    "    \n",
    "    for i in string:\n",
    "        if i in 'AEIOUaeiou':\n",
    "            total = total + 1\n",
    "        else:\n",
    "            count = count + 1\n",
    "    print(\"Vowels : \",total)\n",
    "    print(\"Constant : \",count)\n",
    "counting()"
   ]
  },
  {
   "cell_type": "markdown",
   "metadata": {},
   "source": [
    "Question 8:\n",
    "Write a function that will take length and breadth for a rectangle and return perimeter and area of rectangle with 8% increment.\n"
   ]
  },
  {
   "cell_type": "code",
   "execution_count": 22,
   "metadata": {},
   "outputs": [
    {
     "name": "stdout",
     "output_type": "stream",
     "text": [
      "Enter length of Rectangle : 5\n",
      "Enter Bredth of Rectangle : 5\n",
      "Original Area : 25.00cm² \n",
      "Area with 5% increment : 27.00cm \n",
      "\n",
      "\n",
      "Original Perimeter : 20.00cm² \n",
      "Perimeter with 5% increment : 21.60cm \n"
     ]
    }
   ],
   "source": [
    "#time 4 minutes\n",
    "def increment():\n",
    "    l = int(input(\"Enter length of Rectangle : \"))\n",
    "    b = int(input(\"Enter Bredth of Rectangle : \"))\n",
    "    AreaO = l * b\n",
    "    PerimeterO = 2*l + 2*b\n",
    "    AreaI= (AreaO/100)*108\n",
    "    PerimeterI = (PerimeterO/100)*108\n",
    "    print(\"Original Area : {0:.{1}f}cm\\u00b2 \".format(AreaO,2))\n",
    "    print(\"Area with 5% increment : {0:.{1}f}cm \".format(AreaI,2))\n",
    "    print(\"\\n\")\n",
    "    print(\"Original Perimeter : {0:.{1}f}cm\\u00b2 \".format(PerimeterO,2))\n",
    "    print(\"Perimeter with 5% increment : {0:.{1}f}cm \".format(PerimeterI,2))\n",
    "increment()"
   ]
  },
  {
   "cell_type": "markdown",
   "metadata": {},
   "source": [
    "Question 9:\n",
    "Write a function that can take the numbers in strings. From string find which number is even and which one is odd. Save them in two different lists and generate the result.\n"
   ]
  },
  {
   "cell_type": "code",
   "execution_count": null,
   "metadata": {},
   "outputs": [],
   "source": [
    "#time 4 minute\n",
    "def evod():\n",
    "    x = []\n",
    "    y = []\n",
    "    for i in range(6):\n",
    "        num = str(input(\"Enter a Number : \"))\n",
    "        if int(num)%2==0:\n",
    "            x.append(num)\n",
    "        else:\n",
    "            y.append(num)\n",
    "    print(\"Even Numbers : \",x)\n",
    "    print(\"Odd Numbers  : \",y)\n",
    "evod()\n"
   ]
  },
  {
   "cell_type": "markdown",
   "metadata": {},
   "source": [
    "Question 10:\n",
    "Write a function which will take the string from the user and return how many alphabets have been used in it and which alphabets are missing.\n"
   ]
  },
  {
   "cell_type": "code",
   "execution_count": null,
   "metadata": {},
   "outputs": [],
   "source": [
    "#time 12 minutes\n",
    "def counter(y):\n",
    "    count = 0\n",
    "    x = ['a','b','c','d','e','f','g','h','i','j','k','l','m','n','o','p','q','r','s','t','u','v','w','x','y','z']\n",
    "    y.casefold()\n",
    "    z=['']\n",
    "    for i in y:\n",
    "        if i in x and i not in z:\n",
    "            count = count + 1 \n",
    "            c = z.append(i)\n",
    "            x.remove(i)\n",
    "    print(\"Number of Alphabets Used : \" ,count)\n",
    "    print(\"\\nAphabets not used \")\n",
    "    print(x)\n",
    "    \n",
    "counter('Ismail')\n"
   ]
  },
  {
   "cell_type": "markdown",
   "metadata": {},
   "source": [
    "Question 11:\n",
    "Write a function that will take verbs in words and return a list of verbs with continuous tense by adding (ing) at the end of each verb.\n"
   ]
  },
  {
   "cell_type": "code",
   "execution_count": null,
   "metadata": {},
   "outputs": [],
   "source": [
    "#time 9 minutes\n",
    "def countinuous():\n",
    "    verb = ['','','','']\n",
    "    y = ['','','','']\n",
    "    for i in range(4):\n",
    "        verb[i] = input(\"Enter verbs : \")\n",
    "    \n",
    "    k = 0\n",
    "    for x in verb:\n",
    "        y[k]=x+\"ing\"\n",
    "        k = k+1\n",
    "    print(y)\n",
    "countinuous()\n"
   ]
  },
  {
   "cell_type": "markdown",
   "metadata": {},
   "source": [
    "Question 12:\n",
    "Make a function which can take two radius of circles and find the areas of it and subtract smaller one from larger one and tell the remaining area of circle.\n"
   ]
  },
  {
   "cell_type": "code",
   "execution_count": null,
   "metadata": {},
   "outputs": [],
   "source": [
    "from math import pi\n",
    "def RemainingArea():\n",
    "    radius1=eval(input(\"Enter radius  of Circle 1 : \"))\n",
    "    radius2=eval(input(\"Enter radius of Circle 2: \"))\n",
    "    \n",
    "    Acircle1 = pi * radius1**2\n",
    "    print(\"Area of Circle = {0:.{1}f}cm\\u00b2\".format(Acircle1,2))\n",
    "    Acircle2 = pi * radius2**2\n",
    "    print(\"Area of Circle = {0:.{1}f}cm\\u00b2\".format(Acircle2,2))\n",
    "    \n",
    "    if Acircle1 > Acircle2 :\n",
    "        Remaining = ACircle1-Acircle2\n",
    "        print(\"Subtracting Area of Circle from Area of Square , Remaining Area is {0:.{1}f}cm\\u00b2\".format(Remaining,2))\n",
    "    elif Acircle2 > Acircle1 :\n",
    "        Remaining = Acircle2-Acircle1\n",
    "        print(\"Subtracting Area of Square from Area of Circle , Remaining Area is {0:.{1}f}cm\\u00b2\".format(Remaining,2))\n",
    "\n",
    "RemainingArea()"
   ]
  },
  {
   "cell_type": "markdown",
   "metadata": {},
   "source": [
    "Question 13:\n",
    "Write a function that will take a string and calculate number of Upper case letters and lower case letters.\n"
   ]
  },
  {
   "cell_type": "code",
   "execution_count": null,
   "metadata": {},
   "outputs": [],
   "source": [
    "#time 6 minute\n",
    "def counting():\n",
    "    total = 0\n",
    "    count = 0\n",
    "    string = input(\"Enter a String : \")\n",
    "    \n",
    "    for i in string:\n",
    "        if i in 'ABCDEFGHIJKLMNOPQRSTUVWXYZ':\n",
    "            total = total + 1\n",
    "        else:\n",
    "            if i in 'abbcdefghijklmnopqrstuvwxyz':\n",
    "                count = count + 1\n",
    "    print(\"Total Number of Uppercase : \",total)\n",
    "    print(\"Total Number of Lowercase : \",count)\n",
    "counting()\n"
   ]
  },
  {
   "cell_type": "markdown",
   "metadata": {},
   "source": [
    "Question 14:\n",
    "Write a function which will take length and breadth of two rectangles. Subtract the smaller rectangle from the larger rectangle and return the area left behind.\n"
   ]
  },
  {
   "cell_type": "code",
   "execution_count": null,
   "metadata": {},
   "outputs": [],
   "source": [
    "def area():\n",
    "    l1=eval(input(\"Enter Length of Rectangle 1 : \"))\n",
    "    b1=eval(input(\"Enter Bredth of Rectangle 1 : \"))\n",
    "    l2=eval(input(\"Enter Length of Rectangle 2 : \"))\n",
    "    b2=eval(input(\"Enter Bredth of Rectangle 2 : \"))\n",
    "    area1 = l1*b1\n",
    "    area2 = l2*b2\n",
    "    if area1 > area2:\n",
    "        Remaining = area1-area2\n",
    "        print(\"Area of Bigger rectangle subtracted from smaller Rectangle : {0:.{1}f}cm\\u00b2\".format(Remaining,2))\n",
    "    if area2 > area1:\n",
    "        Remaining = area2-area1\n",
    "        print(\"Area of Bigger rectangle subtracted from smaller Rectangle : {0:.{1}f}cm\\u00b2\".format(Remaining,2))  \n",
    "area()"
   ]
  },
  {
   "cell_type": "markdown",
   "metadata": {},
   "source": [
    "Question 15:\n",
    "Create a function that can add the fractions in series such as 1 to 8 = 1/8+1/7+1/6+1/5 …… ½ and return the result in fraction not in decimal.\n"
   ]
  },
  {
   "cell_type": "code",
   "execution_count": null,
   "metadata": {},
   "outputs": [],
   "source": [
    "def addf():\n",
    "    from fractions import Fraction\n",
    "    sum = 0\n",
    "    for i in range(1,9):\n",
    "        sum = sum + Fraction(1,i) \n",
    "        \n",
    "    print(sum)\n",
    "addf()"
   ]
  },
  {
   "cell_type": "markdown",
   "metadata": {},
   "source": [
    "Question 17:\n",
    "Write a function which will take a list of fruits names. The function will return how many alphabets are repetitive in the names of fruits and how many are unique letters.\n"
   ]
  },
  {
   "cell_type": "code",
   "execution_count": null,
   "metadata": {},
   "outputs": [],
   "source": [
    "def counter():\n",
    "    j = ['']\n",
    "    count = 0\n",
    "    total = 0\n",
    "    fruits=['','','','']\n",
    "    for i in range(4):\n",
    "        fruits[i]=input(\"Enter Fruit Name : \")\n",
    "    for i in fruits:\n",
    "        for x in i :\n",
    "            if i in j:\n",
    "                count = count + 1 \n",
    "            if i not in j:\n",
    "                j.append(i)\n",
    "                total = total + 1 \n",
    "    print(\"Number of Unique letter : \",total)\n",
    "    print(\"Number of Repetitive Letter : \",count)\n",
    "counter()\n"
   ]
  },
  {
   "cell_type": "markdown",
   "metadata": {},
   "source": [
    "Question 18:\n",
    "Write a function that can take square length and radius of circle. Find the area of both and subtract the smallest shape from largest one and return the remaining shape area.\n"
   ]
  },
  {
   "cell_type": "code",
   "execution_count": null,
   "metadata": {},
   "outputs": [],
   "source": [
    "from math import pi\n",
    "def RemainingArea():\n",
    "    length=eval(input(\"Enter length of square : \"))\n",
    "    radius=eval(input(\"Enter radius of Circle : \"))\n",
    "    #Area of Square\n",
    "    Asquare = 2 * length\n",
    "    print(\"Area of Square = {0:.{1}f}cm\\u00b2\".format(Asquare,2))\n",
    "    Acircle = pi * radius**2\n",
    "    print(\"Area of Circle = {0:.{1}f}cm\\u00b2\".format(Acircle,2))\n",
    "    \n",
    "    if Asquare > Acircle :\n",
    "        Remaining = Asquare-Acircle\n",
    "        print(\"Subtracting Area of Circle from Area of Square , Remaining Area is {0:.{1}f}cm\\u00b2\".format(Remaining,2))\n",
    "    elif Acircle > Asquare :\n",
    "        Remaining = Acircle-Asquare\n",
    "        print(\"Subtracting Area of Square from Area of Circle , Remaining Area is {0:.{1}f}cm\\u00b2\".format(Remaining,2))\n",
    "RemainingArea()"
   ]
  }
 ],
 "metadata": {
  "kernelspec": {
   "display_name": "Python 3",
   "language": "python",
   "name": "python3"
  },
  "language_info": {
   "codemirror_mode": {
    "name": "ipython",
    "version": 3
   },
   "file_extension": ".py",
   "mimetype": "text/x-python",
   "name": "python",
   "nbconvert_exporter": "python",
   "pygments_lexer": "ipython3",
   "version": "3.7.3"
  }
 },
 "nbformat": 4,
 "nbformat_minor": 2
}
